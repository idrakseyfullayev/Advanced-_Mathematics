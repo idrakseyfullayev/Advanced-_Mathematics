{
 "cells": [
  {
   "cell_type": "markdown",
   "id": "bf81c4ad",
   "metadata": {},
   "source": [
    "## SUM  \n",
    "- $\\sum_{i=1}^{n} x_i$\n"
   ]
  },
  {
   "cell_type": "code",
   "execution_count": 24,
   "id": "74056875",
   "metadata": {},
   "outputs": [],
   "source": [
    "def sum_(x):\n",
    "    return x**2"
   ]
  },
  {
   "cell_type": "code",
   "execution_count": 28,
   "id": "b73c36e7",
   "metadata": {},
   "outputs": [
    {
     "data": {
      "text/plain": [
       "790"
      ]
     },
     "execution_count": 28,
     "metadata": {},
     "output_type": "execute_result"
    }
   ],
   "source": [
    "sum(sum_(i) for i in range(-7, 12+1))"
   ]
  },
  {
   "cell_type": "code",
   "execution_count": 29,
   "id": "46ecaac2",
   "metadata": {},
   "outputs": [
    {
     "data": {
      "text/plain": [
       "790"
      ]
     },
     "execution_count": 29,
     "metadata": {},
     "output_type": "execute_result"
    }
   ],
   "source": [
    "sum(i**2 for i in range(-7, 12+1))"
   ]
  },
  {
   "cell_type": "code",
   "execution_count": null,
   "id": "8cffbd0b",
   "metadata": {},
   "outputs": [],
   "source": []
  },
  {
   "cell_type": "code",
   "execution_count": 40,
   "id": "45eb397a",
   "metadata": {},
   "outputs": [
    {
     "data": {
      "text/plain": [
       "22"
      ]
     },
     "execution_count": 40,
     "metadata": {},
     "output_type": "execute_result"
    }
   ],
   "source": [
    "x = [7, 11, 4]\n",
    "\n",
    "summation = 0\n",
    "for i in x:\n",
    "    summation += i\n",
    "    \n",
    "summation  "
   ]
  },
  {
   "cell_type": "code",
   "execution_count": 41,
   "id": "176767a4",
   "metadata": {},
   "outputs": [
    {
     "data": {
      "text/plain": [
       "22"
      ]
     },
     "execution_count": 41,
     "metadata": {},
     "output_type": "execute_result"
    }
   ],
   "source": [
    "x = [7, 11, 4]\n",
    "\n",
    "summation = 0\n",
    "for i in range(0, len(x)):\n",
    "    summation += x[i]\n",
    "    \n",
    "summation    "
   ]
  },
  {
   "cell_type": "code",
   "execution_count": 43,
   "id": "6996e5e1",
   "metadata": {},
   "outputs": [
    {
     "data": {
      "text/plain": [
       "22"
      ]
     },
     "execution_count": 43,
     "metadata": {},
     "output_type": "execute_result"
    }
   ],
   "source": [
    "sum(x[i] for i in range(0, len(x)))"
   ]
  },
  {
   "cell_type": "code",
   "execution_count": 44,
   "id": "0701fb83",
   "metadata": {},
   "outputs": [
    {
     "data": {
      "text/plain": [
       "22"
      ]
     },
     "execution_count": 44,
     "metadata": {},
     "output_type": "execute_result"
    }
   ],
   "source": [
    "sum(x)"
   ]
  },
  {
   "cell_type": "code",
   "execution_count": 45,
   "id": "8c1caae4",
   "metadata": {},
   "outputs": [
    {
     "data": {
      "text/plain": [
       "220"
      ]
     },
     "execution_count": 45,
     "metadata": {},
     "output_type": "execute_result"
    }
   ],
   "source": [
    "sum(10*x)"
   ]
  },
  {
   "cell_type": "code",
   "execution_count": 47,
   "id": "54612c48",
   "metadata": {},
   "outputs": [
    {
     "data": {
      "text/plain": [
       "220"
      ]
     },
     "execution_count": 47,
     "metadata": {},
     "output_type": "execute_result"
    }
   ],
   "source": [
    "10*(sum(x))"
   ]
  },
  {
   "cell_type": "code",
   "execution_count": null,
   "id": "547ca07b",
   "metadata": {},
   "outputs": [],
   "source": []
  },
  {
   "cell_type": "code",
   "execution_count": 59,
   "id": "731c70a7",
   "metadata": {},
   "outputs": [
    {
     "data": {
      "text/latex": [
       "$\\displaystyle \\sum_{i=1}^{j} i^{2}$"
      ],
      "text/plain": [
       "Sum(i**2, (i, 1, j))"
      ]
     },
     "execution_count": 59,
     "metadata": {},
     "output_type": "execute_result"
    }
   ],
   "source": [
    "# SymPy kitabxanasını idxal edir (simvolik riyazi hesablama üçün istifadə olunur)\n",
    "from sympy import *  \n",
    "\n",
    "# 'i' və 'j' simvolik dəyişənlərini təyin edir\n",
    "i, j = symbols('i j')  \n",
    "# i^2 ifadəsini 1-dən j-ə qədər cəmləyən bir ifadə yaradır\n",
    "summation = Sum(i**2, (i, 1, j))  \n",
    "# Yaradılan cəmləmə ifadəsini göstərir (eval etmədən)\n",
    "summation  \n"
   ]
  },
  {
   "cell_type": "code",
   "execution_count": 65,
   "id": "9cd77ff9",
   "metadata": {},
   "outputs": [
    {
     "data": {
      "text/latex": [
       "$\\displaystyle 55$"
      ],
      "text/plain": [
       "55"
      ]
     },
     "execution_count": 65,
     "metadata": {},
     "output_type": "execute_result"
    }
   ],
   "source": [
    "# SymPy kitabxanasını idxal edir (simvolik riyazi hesablama üçün istifadə olunur)\n",
    "from sympy import *\n",
    "\n",
    "# 'i' və 'j' simvolik dəyişənlərini təyin edir\n",
    "i, j = symbols('i j')\n",
    "# i^2 ifadəsini 1-dən j-ə qədər cəmləyən bir ifadə yaradır\n",
    "summation = Sum(i**2, (i, 1, j))\n",
    "# j dəyişəninin dəyərini 5 ilə əvəz edir\n",
    "sum_to_5 = summation.subs(j, 5)\n",
    "# Cəmləmə ifadəsini hesablamaq üçün (eval edərək) nəticəni qaytarır\n",
    "sum_to_5.doit()"
   ]
  },
  {
   "cell_type": "code",
   "execution_count": null,
   "id": "5bb580d9",
   "metadata": {},
   "outputs": [],
   "source": []
  },
  {
   "cell_type": "code",
   "execution_count": null,
   "id": "81b3ec9f",
   "metadata": {},
   "outputs": [],
   "source": []
  }
 ],
 "metadata": {
  "kernelspec": {
   "display_name": "Python 3 (ipykernel)",
   "language": "python",
   "name": "python3"
  },
  "language_info": {
   "codemirror_mode": {
    "name": "ipython",
    "version": 3
   },
   "file_extension": ".py",
   "mimetype": "text/x-python",
   "name": "python",
   "nbconvert_exporter": "python",
   "pygments_lexer": "ipython3",
   "version": "3.11.5"
  }
 },
 "nbformat": 4,
 "nbformat_minor": 5
}
