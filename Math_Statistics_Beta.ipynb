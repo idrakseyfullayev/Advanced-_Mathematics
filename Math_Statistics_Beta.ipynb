{
 "cells": [
  {
   "cell_type": "markdown",
   "id": "2787da26",
   "metadata": {},
   "source": [
    "## Beta"
   ]
  },
  {
   "cell_type": "markdown",
   "id": "4599fed4",
   "metadata": {},
   "source": [
    "### Mesele 1"
   ]
  },
  {
   "cell_type": "code",
   "execution_count": 38,
   "id": "bc7ca5ef",
   "metadata": {
    "scrolled": true
   },
   "outputs": [
    {
     "name": "stdout",
     "output_type": "stream",
     "text": [
      "90%-ə kimi bas verme ehtimali: 77.48%\n",
      "90%-den yuxari bas verme ehtimali: 22.52%\n"
     ]
    }
   ],
   "source": [
    "from scipy.stats import beta\n",
    "\n",
    "a = 8 # ugurlu\n",
    "b = 2 # ugursuz\n",
    "\n",
    "# 90%-ə kimi bas verme ehtimalini hesabla \n",
    "p1 = beta.cdf(0.9, a, b)\n",
    "\n",
    "# 90%-den yuxari bas verme ehtimalini hesabla \n",
    "p2 = 1 - beta.cdf(0.9, a, b)\n",
    "\n",
    "print(f\"90%-ə kimi bas verme ehtimali: {p1*100:.2f}%\")\n",
    "print(f\"90%-den yuxari bas verme ehtimali: {p2*100:.2f}%\")"
   ]
  },
  {
   "cell_type": "code",
   "execution_count": null,
   "id": "2447d611",
   "metadata": {},
   "outputs": [],
   "source": []
  },
  {
   "cell_type": "markdown",
   "id": "fceef2af",
   "metadata": {},
   "source": [
    "### Mesele 2"
   ]
  },
  {
   "cell_type": "code",
   "execution_count": 40,
   "id": "0ab1fe56",
   "metadata": {},
   "outputs": [
    {
     "name": "stdout",
     "output_type": "stream",
     "text": [
      "90%-ə kimi bas verme ehtimali: 26.48%\n",
      "90%-den yuxari bas verme ehtimali: 73.52%\n"
     ]
    }
   ],
   "source": [
    "from scipy.stats import beta\n",
    "\n",
    "a = 46 # ugurlu\n",
    "b = 4 # ugursuz\n",
    "\n",
    "# 90%-ə kimi bas verme ehtimalini hesabla \n",
    "p1 = beta.cdf(0.9, a, b)\n",
    "\n",
    "# 90%-den yuxari bas verme ehtimalini hesabla \n",
    "p2 = 1 - beta.cdf(0.9, a, b)\n",
    "\n",
    "print(f\"90%-ə kimi bas verme ehtimali: {p1*100:.2f}%\")\n",
    "print(f\"90%-den yuxari bas verme ehtimali: {p2*100:.2f}%\")"
   ]
  },
  {
   "cell_type": "code",
   "execution_count": null,
   "id": "6b2ea052",
   "metadata": {},
   "outputs": [],
   "source": []
  },
  {
   "cell_type": "markdown",
   "id": "f5cee817",
   "metadata": {},
   "source": [
    "### Mesele 3"
   ]
  },
  {
   "cell_type": "code",
   "execution_count": 41,
   "id": "283d811f",
   "metadata": {},
   "outputs": [
    {
     "name": "stdout",
     "output_type": "stream",
     "text": [
      "80% - 90% arasi bas verme ehtimali: 25.81%\n"
     ]
    }
   ],
   "source": [
    "from scipy.stats import beta\n",
    "\n",
    "a = 46 # ugurlu\n",
    "b = 4 # ugursuz\n",
    "\n",
    "# 80% - 90% arasi bas verme ehtimalini hesabla \n",
    "p = beta.cdf(0.9, a, b) - beta.cdf(0.8, a, b)\n",
    "\n",
    "print(f\"80% - 90% arasi bas verme ehtimali: {p*100:.2f}%\")"
   ]
  },
  {
   "cell_type": "code",
   "execution_count": null,
   "id": "463b3c05",
   "metadata": {},
   "outputs": [],
   "source": []
  },
  {
   "cell_type": "markdown",
   "id": "fb6477a1",
   "metadata": {},
   "source": [
    "### Mesele 4"
   ]
  },
  {
   "cell_type": "code",
   "execution_count": 48,
   "id": "700ac8a7",
   "metadata": {},
   "outputs": [
    {
     "name": "stdout",
     "output_type": "stream",
     "text": [
      "80%-ə kimi bas verme ehtimali: 0.67%\n"
     ]
    }
   ],
   "source": [
    "from scipy.stats import beta\n",
    "\n",
    "a = 46 # ugurlu\n",
    "b = 4 # ugursuz\n",
    "\n",
    "# 80%-ə kimi bas verme ehtimalini hesabla \n",
    "p = beta.cdf(0.8, a, b)\n",
    "\n",
    "print(f\"80%-ə kimi bas verme ehtimali: {p*100:.2f}%\")"
   ]
  },
  {
   "cell_type": "code",
   "execution_count": null,
   "id": "a139f5a2",
   "metadata": {},
   "outputs": [],
   "source": []
  }
 ],
 "metadata": {
  "kernelspec": {
   "display_name": "Python 3 (ipykernel)",
   "language": "python",
   "name": "python3"
  },
  "language_info": {
   "codemirror_mode": {
    "name": "ipython",
    "version": 3
   },
   "file_extension": ".py",
   "mimetype": "text/x-python",
   "name": "python",
   "nbconvert_exporter": "python",
   "pygments_lexer": "ipython3",
   "version": "3.11.5"
  }
 },
 "nbformat": 4,
 "nbformat_minor": 5
}
