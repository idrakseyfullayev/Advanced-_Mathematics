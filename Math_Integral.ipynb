{
 "cells": [
  {
   "cell_type": "markdown",
   "id": "bc3a54db",
   "metadata": {},
   "source": [
    "## Integral"
   ]
  },
  {
   "cell_type": "markdown",
   "id": "e92cd751",
   "metadata": {},
   "source": [
    "Bir funksiyanın $ f(x) $ müəyyən intervalda $ [a, b] $ inteqralı aşağıdakı şəkildə limit vasitəsilə təyin olunur:\n",
    "\n",
    "$$\n",
    "\\int_a^b f(x) \\, dx = \\lim_{n \\to \\infty} \\sum_{i=1}^n f(x_i^*) \\Delta x\n",
    "$$\n",
    "\n",
    "#### Burada:\n",
    "- $ [a, b] $ — inteqralın intervalıdır,\n",
    "- $ n $ — intervalın bərabər uzunluqlu hissələrə (subintervalara) bölünmə sayı,\n",
    "- $ \\Delta x = \\frac{b-a}{n} $ — hər bir subintervalın eni,\n",
    "- $ x_i^* $ — hər bir subintervalın içində təsadüfi bir nöqtə (adətən, sol, sağ və ya orta nöqtə seçilir),\n",
    "- $ \\sum $ — subintervalların sahələrinin cəmini göstərir."
   ]
  },
  {
   "cell_type": "markdown",
   "id": "65b69002",
   "metadata": {},
   "source": [
    "## $2x$ integral"
   ]
  },
  {
   "cell_type": "code",
   "execution_count": 19,
   "id": "f335e4f7",
   "metadata": {},
   "outputs": [
    {
     "data": {
      "text/plain": [
       "100000001.09400858"
      ]
     },
     "execution_count": 19,
     "metadata": {},
     "output_type": "execute_result"
    }
   ],
   "source": [
    "d_x = 0.00000001\n",
    "summation = 0\n",
    "a, b = 0, 1\n",
    "while a < b:\n",
    "    a += d_x\n",
    "    summation += 2*a\n",
    "summation    "
   ]
  },
  {
   "cell_type": "markdown",
   "id": "0689da7a",
   "metadata": {},
   "source": [
    "## $2x$ integral with Limit"
   ]
  },
  {
   "cell_type": "code",
   "execution_count": 38,
   "id": "151e5304",
   "metadata": {},
   "outputs": [
    {
     "data": {
      "text/latex": [
       "$\\displaystyle x^{2}$"
      ],
      "text/plain": [
       "x**2"
      ]
     },
     "execution_count": 38,
     "metadata": {},
     "output_type": "execute_result"
    }
   ],
   "source": [
    "from sympy import *\n",
    "x, i, n = symbols('x i n')\n",
    "a, b = 0, x\n",
    "d_x = (b-a)/n\n",
    "x_i = a + d_x * i\n",
    "f_x = 2 * x\n",
    "f_x_i = f_x.subs(x, x_i)\n",
    "limit_integral = limit(d_x * Sum(f_x_i, (i, 1, n)).doit(), n, oo)\n",
    "limit_integral"
   ]
  },
  {
   "cell_type": "code",
   "execution_count": 39,
   "id": "6c8dc287",
   "metadata": {},
   "outputs": [
    {
     "data": {
      "text/latex": [
       "$\\displaystyle 16$"
      ],
      "text/plain": [
       "16"
      ]
     },
     "execution_count": 39,
     "metadata": {},
     "output_type": "execute_result"
    }
   ],
   "source": [
    "from sympy import *\n",
    "x, i, n = symbols('x i n')\n",
    "a, b = 0, 4\n",
    "d_x = (b-a)/n\n",
    "x_i = a + d_x * i\n",
    "f_x = 2 * x\n",
    "f_x_i = f_x.subs(x, x_i)\n",
    "limit_integral = limit(d_x * Sum(f_x_i, (i, 1, n)).doit(), n, oo)\n",
    "limit_integral"
   ]
  },
  {
   "cell_type": "code",
   "execution_count": 40,
   "id": "90abf8f9",
   "metadata": {},
   "outputs": [
    {
     "data": {
      "text/latex": [
       "$\\displaystyle 16$"
      ],
      "text/plain": [
       "16"
      ]
     },
     "execution_count": 40,
     "metadata": {},
     "output_type": "execute_result"
    }
   ],
   "source": [
    "from sympy import *\n",
    "x, i, n = symbols('x i n')\n",
    "a, b = 0, x\n",
    "d_x = (b-a)/n\n",
    "x_i = a + d_x * i\n",
    "f_x = 2 * x\n",
    "f_x_i = f_x.subs(x, x_i)\n",
    "limit_integral = limit(d_x * Sum(f_x_i, (i, 1, n)).doit(), n, oo).subs(x, 4)\n",
    "limit_integral"
   ]
  },
  {
   "cell_type": "code",
   "execution_count": null,
   "id": "291ac27b",
   "metadata": {},
   "outputs": [],
   "source": []
  },
  {
   "cell_type": "markdown",
   "id": "7f8783fe",
   "metadata": {},
   "source": [
    "## $2𝑥$ integral"
   ]
  },
  {
   "cell_type": "code",
   "execution_count": 41,
   "id": "24e968b9",
   "metadata": {},
   "outputs": [
    {
     "data": {
      "text/latex": [
       "$\\displaystyle x^{2}$"
      ],
      "text/plain": [
       "x**2"
      ]
     },
     "execution_count": 41,
     "metadata": {},
     "output_type": "execute_result"
    }
   ],
   "source": [
    "from sympy import symbols, integrate\n",
    "\n",
    "# Dəyişəni təyin et\n",
    "x = symbols('x')\n",
    "\n",
    "# Funksiyanı təyin et\n",
    "f_x = 2 * x\n",
    "\n",
    "# İntegralı hesablamaq\n",
    "integral_result = integrate(f_x, x)\n",
    "\n",
    "integral_result"
   ]
  },
  {
   "cell_type": "code",
   "execution_count": 42,
   "id": "834b6778",
   "metadata": {},
   "outputs": [
    {
     "data": {
      "text/latex": [
       "$\\displaystyle 16$"
      ],
      "text/plain": [
       "16"
      ]
     },
     "execution_count": 42,
     "metadata": {},
     "output_type": "execute_result"
    }
   ],
   "source": [
    "from sympy import symbols, integrate\n",
    "\n",
    "# Dəyişəni təyin et\n",
    "x = symbols('x')\n",
    "\n",
    "# Funksiyanı təyin et\n",
    "f_x = 2 * x\n",
    "\n",
    "# İntegralı hesablamaq\n",
    "integral_result = integrate(f_x, x).subs(x, 4)\n",
    "\n",
    "integral_result"
   ]
  },
  {
   "cell_type": "code",
   "execution_count": 5,
   "id": "58ad22f4",
   "metadata": {},
   "outputs": [
    {
     "data": {
      "text/latex": [
       "$\\displaystyle 16$"
      ],
      "text/plain": [
       "16"
      ]
     },
     "execution_count": 5,
     "metadata": {},
     "output_type": "execute_result"
    }
   ],
   "source": [
    "from sympy import symbols, integrate\n",
    "\n",
    "# Dəyişəni təyin et\n",
    "x = symbols('x')\n",
    "\n",
    "# Funksiyanı təyin et\n",
    "f_x = 2 * x\n",
    "\n",
    "# İntegralı hesablamaq\n",
    "integral_result = integrate(f_x, (x, 0, 4))\n",
    "\n",
    "integral_result"
   ]
  },
  {
   "cell_type": "markdown",
   "id": "682cd4b1",
   "metadata": {},
   "source": [
    "## $𝑥^2$ integral"
   ]
  },
  {
   "cell_type": "code",
   "execution_count": 6,
   "id": "0c907e53",
   "metadata": {},
   "outputs": [
    {
     "data": {
      "text/latex": [
       "$\\displaystyle \\frac{x^{3}}{3}$"
      ],
      "text/plain": [
       "x**3/3"
      ]
     },
     "execution_count": 6,
     "metadata": {},
     "output_type": "execute_result"
    }
   ],
   "source": [
    "from sympy import symbols, integrate\n",
    "\n",
    "# Dəyişəni təyin et\n",
    "x = symbols('x')\n",
    "\n",
    "# Funksiyanı təyin et\n",
    "f_x = x**2\n",
    "\n",
    "# İntegralı hesablamaq\n",
    "integral_result = integrate(f_x, x)\n",
    "\n",
    "integral_result"
   ]
  },
  {
   "cell_type": "code",
   "execution_count": 22,
   "id": "d65fdf88",
   "metadata": {},
   "outputs": [
    {
     "data": {
      "text/latex": [
       "$\\displaystyle 63$"
      ],
      "text/plain": [
       "63"
      ]
     },
     "execution_count": 22,
     "metadata": {},
     "output_type": "execute_result"
    }
   ],
   "source": [
    "from sympy import symbols, integrate\n",
    "\n",
    "# Dəyişəni təyin et\n",
    "x = symbols('x')\n",
    "\n",
    "# Funksiyanı təyin et\n",
    "f_x = x**2\n",
    "\n",
    "# İntegralı hesablamaq\n",
    "integral_result = integrate(f_x, (x, 3, 6))\n",
    "\n",
    "integral_result"
   ]
  },
  {
   "cell_type": "code",
   "execution_count": null,
   "id": "e042c860",
   "metadata": {},
   "outputs": [],
   "source": []
  },
  {
   "cell_type": "markdown",
   "id": "baf0ecad",
   "metadata": {},
   "source": [
    "### Daha derinden"
   ]
  },
  {
   "cell_type": "code",
   "execution_count": 19,
   "id": "d87f6065",
   "metadata": {},
   "outputs": [
    {
     "data": {
      "text/plain": [
       "1.001000000000003"
      ]
     },
     "execution_count": 19,
     "metadata": {},
     "output_type": "execute_result"
    }
   ],
   "source": [
    "def integ(a, b, n, f_x):\n",
    "    d_x = (b - a) / n\n",
    "    sum_set = set()\n",
    "    for i in range(1, n + 1):\n",
    "        x_i = a + d_x * i\n",
    "        sum_set.add(f_x(x_i))\n",
    "    return d_x * sum(sum_set)\n",
    "\n",
    "f_x = lambda x: 2 * x\n",
    "\n",
    "integ(0, 1, 1000, f_x)"
   ]
  },
  {
   "cell_type": "code",
   "execution_count": null,
   "id": "b3f7df9a",
   "metadata": {},
   "outputs": [],
   "source": []
  }
 ],
 "metadata": {
  "kernelspec": {
   "display_name": "Python 3 (ipykernel)",
   "language": "python",
   "name": "python3"
  },
  "language_info": {
   "codemirror_mode": {
    "name": "ipython",
    "version": 3
   },
   "file_extension": ".py",
   "mimetype": "text/x-python",
   "name": "python",
   "nbconvert_exporter": "python",
   "pygments_lexer": "ipython3",
   "version": "3.11.5"
  }
 },
 "nbformat": 4,
 "nbformat_minor": 5
}
