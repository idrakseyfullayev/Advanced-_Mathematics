{
 "cells": [
  {
   "cell_type": "markdown",
   "id": "560264b2",
   "metadata": {},
   "source": [
    "## Ehtimal Meselesi"
   ]
  },
  {
   "cell_type": "markdown",
   "id": "a2e78d75",
   "metadata": {},
   "source": [
    "Bayes teoremi istifadə edərək siqaret çəkmə və xərçəng ehtimalı ilə bağlı məsələnin qurulması və həlli üçün aşağıdakı addımları izləyə bilərik.\n",
    "\n",
    "Məsələnin şərti:\n",
    "\n",
    "1. Siqaret çəkmə ehtimalı: $ P(S) = 0.3 $\n",
    "2. Siqaret çəkməyən ehtimalı: $ P(\\neg S) = 0.7 $\n",
    "3. Siqaret çəkənlər arasında xərçəng ehtimalı: $ P(X|S) = 0.2 $\n",
    "4. Siqaret çəkməyənlər arasında xərçəng ehtimalı: $ P(X|\\neg S) = 0.05 $\n",
    "\n",
    "Bu məlumatlardan istifadə edərək, Bayes teoreminə görə bir şəxsin xərçəng olma ehtimalı $ P(S|X) $-i hesablayacağıq:\n",
    "\n",
    "Bayes düsturu:\n",
    "$$\n",
    "P(S|X) = \\frac{P(X|S) \\cdot P(S)}{P(X)}\n",
    "$$\n",
    "\n",
    "Burada $ P(X) $ ümumi xərçəng ehtimalıdır:\n",
    "$$\n",
    "P(X) = P(X|S) \\cdot P(S) + P(X|\\neg S) \\cdot P(\\neg S)\n",
    "$$\n",
    "\n",
    "\n",
    "\n",
    "### Açıq cavab:\n",
    "1. Ümumi xərçəng ehtimalı ($ P(X) $): \n",
    "   $$\n",
    "   P(X) = P(X|S) \\cdot P(S) + P(X|\\neg S) \\cdot P(\\neg S) = 0.3 \\cdot 0.2 + 0.7 \\cdot 0.05 = 0.095\n",
    "   $$\n",
    "\n",
    "2. Bayes teoremi ilə siqaret çəkən və xərçəng olan ehtimalı ($ P(S|X) $):\n",
    "   $$\n",
    "   P(S|X) = \\frac{P(X|S) \\cdot P(S)}{P(X)} = \\frac{0.2 \\cdot 0.3}{0.085} \\approx 0.63\n",
    "  $$\n",
    "\n",
    "Beləliklə, xərçəng olan bir şəxsin siqaret çəkən olması ehtimalı təqribən 63%-dir."
   ]
  },
  {
   "cell_type": "code",
   "execution_count": null,
   "id": "c4b2485c",
   "metadata": {},
   "outputs": [],
   "source": []
  },
  {
   "cell_type": "code",
   "execution_count": 25,
   "id": "3e773b27",
   "metadata": {},
   "outputs": [
    {
     "name": "stdout",
     "output_type": "stream",
     "text": [
      "P(X) = 0.095\n",
      "P(S|X) = 0.63\n"
     ]
    }
   ],
   "source": [
    "from sympy import *\n",
    "\n",
    "# Dəyişənləri təyin et\n",
    "P_S = Rational(3, 10)  # Siqaret çəkmə ehtimalı: 0.3\n",
    "P_not_S = 1 - P_S         # Siqaret çəkməmə ehtimalı: 0.7\n",
    "P_X_given_S = Rational(2, 10)  # Siqaret çəkənlərdə xərçəng ehtimalı: 0.2\n",
    "P_X_given_not_S = Rational(5, 100)  # Siqaret çəkməyənlərdə xərçəng ehtimalı: 0.05\n",
    "\n",
    "# Ümumi xərçəng ehtimalını hesabla\n",
    "P_X = P_X_given_S * P_S + P_X_given_not_S * P_not_S\n",
    "\n",
    "# Bayes teoremi ilə P(S|X)-i hesabla\n",
    "P_S_given_X = (P_X_given_S * P_S) / P_X\n",
    "\n",
    "# Nəticələri float formatında göstər\n",
    "print(f\"P(X) = {P_X.evalf():.3f}\")  # P(X) 2 onluq yerə qədər yuvarlaqlaşdırılmış formada\n",
    "print(f\"P(S|X) = {P_S_given_X.evalf():.2f}\")  # P(S|X) 2 onluq yerə qədər yuvarlaqlaşdırılmış formada"
   ]
  },
  {
   "cell_type": "code",
   "execution_count": null,
   "id": "82bf606e",
   "metadata": {},
   "outputs": [],
   "source": []
  }
 ],
 "metadata": {
  "kernelspec": {
   "display_name": "Python 3 (ipykernel)",
   "language": "python",
   "name": "python3"
  },
  "language_info": {
   "codemirror_mode": {
    "name": "ipython",
    "version": 3
   },
   "file_extension": ".py",
   "mimetype": "text/x-python",
   "name": "python",
   "nbconvert_exporter": "python",
   "pygments_lexer": "ipython3",
   "version": "3.11.5"
  }
 },
 "nbformat": 4,
 "nbformat_minor": 5
}
