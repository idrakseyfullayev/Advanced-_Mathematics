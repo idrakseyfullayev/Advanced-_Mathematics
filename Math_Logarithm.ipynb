{
 "cells": [
  {
   "cell_type": "markdown",
   "id": "2162762d",
   "metadata": {},
   "source": [
    "## Logarithm"
   ]
  },
  {
   "cell_type": "code",
   "execution_count": 58,
   "id": "87cd5286",
   "metadata": {},
   "outputs": [
    {
     "data": {
      "text/plain": [
       "2.5789019231625656"
      ]
     },
     "execution_count": 58,
     "metadata": {},
     "output_type": "execute_result"
    }
   ],
   "source": [
    "from math import log\n",
    "\n",
    "a = 3\n",
    "x = 17\n",
    "y = log(x, a)\n",
    "\n",
    "y"
   ]
  },
  {
   "cell_type": "code",
   "execution_count": 59,
   "id": "aa531b53",
   "metadata": {},
   "outputs": [
    {
     "data": {
      "text/latex": [
       "$\\displaystyle 2.57890192316257$"
      ],
      "text/plain": [
       "2.57890192316257"
      ]
     },
     "execution_count": 59,
     "metadata": {},
     "output_type": "execute_result"
    }
   ],
   "source": [
    "from sympy import symbols, log\n",
    "\n",
    "a, x = symbols('a x')\n",
    "y = log(x, a)\n",
    "\n",
    "expr = y.subs({a: 3, x: 17})\n",
    "\n",
    "expr.evalf()  # İfadənin təxmini ədədi qiymətini çap edir"
   ]
  },
  {
   "cell_type": "code",
   "execution_count": 60,
   "id": "fdec83f7",
   "metadata": {},
   "outputs": [
    {
     "data": {
      "text/plain": [
       "16.999999999999996"
      ]
     },
     "execution_count": 60,
     "metadata": {},
     "output_type": "execute_result"
    }
   ],
   "source": [
    "3**2.5789019231625656"
   ]
  },
  {
   "cell_type": "code",
   "execution_count": 61,
   "id": "24356f29",
   "metadata": {},
   "outputs": [
    {
     "data": {
      "text/plain": [
       "17"
      ]
     },
     "execution_count": 61,
     "metadata": {},
     "output_type": "execute_result"
    }
   ],
   "source": [
    "round(3**2.5789019231625656)"
   ]
  },
  {
   "cell_type": "code",
   "execution_count": 62,
   "id": "b473acec",
   "metadata": {},
   "outputs": [
    {
     "data": {
      "text/plain": [
       "-0.6309297535714574"
      ]
     },
     "execution_count": 62,
     "metadata": {},
     "output_type": "execute_result"
    }
   ],
   "source": [
    "from math import log\n",
    "\n",
    "a = 3\n",
    "x = 0.5\n",
    "y = log(x, a)\n",
    "\n",
    "y"
   ]
  },
  {
   "cell_type": "markdown",
   "id": "95b3d2fa",
   "metadata": {},
   "source": [
    "### $a \\neq 1$ olmalıdır."
   ]
  },
  {
   "cell_type": "code",
   "execution_count": 63,
   "id": "aba51dbb",
   "metadata": {},
   "outputs": [
    {
     "ename": "ZeroDivisionError",
     "evalue": "float division by zero",
     "output_type": "error",
     "traceback": [
      "\u001b[1;31m---------------------------------------------------------------------------\u001b[0m",
      "\u001b[1;31mZeroDivisionError\u001b[0m                         Traceback (most recent call last)",
      "Cell \u001b[1;32mIn[63], line 5\u001b[0m\n\u001b[0;32m      3\u001b[0m a \u001b[38;5;241m=\u001b[39m \u001b[38;5;241m1\u001b[39m\n\u001b[0;32m      4\u001b[0m x \u001b[38;5;241m=\u001b[39m \u001b[38;5;241m17\u001b[39m\n\u001b[1;32m----> 5\u001b[0m y \u001b[38;5;241m=\u001b[39m log(x, a)\n\u001b[0;32m      7\u001b[0m y\n",
      "\u001b[1;31mZeroDivisionError\u001b[0m: float division by zero"
     ]
    }
   ],
   "source": [
    "from math import log\n",
    "\n",
    "a = 1\n",
    "x = 17\n",
    "y = log(x, a)\n",
    "\n",
    "y"
   ]
  },
  {
   "cell_type": "markdown",
   "id": "b27fc715",
   "metadata": {},
   "source": [
    "### $x > 0$ olmalıdır."
   ]
  },
  {
   "cell_type": "code",
   "execution_count": 64,
   "id": "ee570fa1",
   "metadata": {},
   "outputs": [
    {
     "ename": "ValueError",
     "evalue": "math domain error",
     "output_type": "error",
     "traceback": [
      "\u001b[1;31m---------------------------------------------------------------------------\u001b[0m",
      "\u001b[1;31mValueError\u001b[0m                                Traceback (most recent call last)",
      "Cell \u001b[1;32mIn[64], line 5\u001b[0m\n\u001b[0;32m      3\u001b[0m a \u001b[38;5;241m=\u001b[39m \u001b[38;5;241m3\u001b[39m\n\u001b[0;32m      4\u001b[0m x \u001b[38;5;241m=\u001b[39m \u001b[38;5;241m-\u001b[39m\u001b[38;5;241m17\u001b[39m\n\u001b[1;32m----> 5\u001b[0m y \u001b[38;5;241m=\u001b[39m log(x, a)\n\u001b[0;32m      7\u001b[0m y\n",
      "\u001b[1;31mValueError\u001b[0m: math domain error"
     ]
    }
   ],
   "source": [
    "from math import log\n",
    "\n",
    "a = 3\n",
    "x = -17\n",
    "y = log(x, a)\n",
    "\n",
    "y"
   ]
  },
  {
   "cell_type": "markdown",
   "id": "25c9f04c",
   "metadata": {},
   "source": [
    "### $a > 0$ olmalıdır."
   ]
  },
  {
   "cell_type": "code",
   "execution_count": 65,
   "id": "a6c96d4f",
   "metadata": {},
   "outputs": [
    {
     "ename": "ValueError",
     "evalue": "math domain error",
     "output_type": "error",
     "traceback": [
      "\u001b[1;31m---------------------------------------------------------------------------\u001b[0m",
      "\u001b[1;31mValueError\u001b[0m                                Traceback (most recent call last)",
      "Cell \u001b[1;32mIn[65], line 5\u001b[0m\n\u001b[0;32m      3\u001b[0m a \u001b[38;5;241m=\u001b[39m \u001b[38;5;241m-\u001b[39m\u001b[38;5;241m3\u001b[39m\n\u001b[0;32m      4\u001b[0m x \u001b[38;5;241m=\u001b[39m \u001b[38;5;241m17\u001b[39m\n\u001b[1;32m----> 5\u001b[0m y \u001b[38;5;241m=\u001b[39m log(x, a)\n\u001b[0;32m      7\u001b[0m y\n",
      "\u001b[1;31mValueError\u001b[0m: math domain error"
     ]
    }
   ],
   "source": [
    "from math import log\n",
    "\n",
    "a = -3\n",
    "x = 17\n",
    "y = log(x, a)\n",
    "\n",
    "y"
   ]
  },
  {
   "cell_type": "code",
   "execution_count": null,
   "id": "486a6e22",
   "metadata": {},
   "outputs": [],
   "source": []
  }
 ],
 "metadata": {
  "kernelspec": {
   "display_name": "Python 3 (ipykernel)",
   "language": "python",
   "name": "python3"
  },
  "language_info": {
   "codemirror_mode": {
    "name": "ipython",
    "version": 3
   },
   "file_extension": ".py",
   "mimetype": "text/x-python",
   "name": "python",
   "nbconvert_exporter": "python",
   "pygments_lexer": "ipython3",
   "version": "3.11.5"
  }
 },
 "nbformat": 4,
 "nbformat_minor": 5
}
