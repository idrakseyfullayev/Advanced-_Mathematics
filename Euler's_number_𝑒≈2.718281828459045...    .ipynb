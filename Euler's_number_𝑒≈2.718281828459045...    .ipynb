{
 "cells": [
  {
   "cell_type": "markdown",
   "id": "acd78496",
   "metadata": {},
   "source": [
    "## Eyler ədədi (Euler's number) $e \\approx 2.718281828459045...$"
   ]
  },
  {
   "cell_type": "markdown",
   "id": "8f045733",
   "metadata": {},
   "source": [
    "### Per for Year"
   ]
  },
  {
   "cell_type": "code",
   "execution_count": 170,
   "id": "42dbfe9f",
   "metadata": {},
   "outputs": [
    {
     "data": {
      "text/plain": [
       "2.0"
      ]
     },
     "execution_count": 170,
     "metadata": {},
     "output_type": "execute_result"
    }
   ],
   "source": [
    "money = 1\n",
    "year = 1\n",
    "per = 100/100\n",
    "for i in range(year): money *= 1+per\n",
    "money"
   ]
  },
  {
   "cell_type": "code",
   "execution_count": 171,
   "id": "af361c4f",
   "metadata": {},
   "outputs": [
    {
     "data": {
      "text/plain": [
       "2.0"
      ]
     },
     "execution_count": 171,
     "metadata": {},
     "output_type": "execute_result"
    }
   ],
   "source": [
    "money = 1\n",
    "year = 1\n",
    "per = 100/100\n",
    "\n",
    "d_year = money*(1+per)**year\n",
    "d_year"
   ]
  },
  {
   "cell_type": "markdown",
   "id": "b7a40785",
   "metadata": {},
   "source": [
    "### Per Monthly"
   ]
  },
  {
   "cell_type": "code",
   "execution_count": 172,
   "id": "2a6291db",
   "metadata": {},
   "outputs": [
    {
     "data": {
      "text/plain": [
       "2.6130352902246763"
      ]
     },
     "execution_count": 172,
     "metadata": {},
     "output_type": "execute_result"
    }
   ],
   "source": [
    "money = 1\n",
    "month = 12\n",
    "per = 100/(100*month)\n",
    "\n",
    "for i in range(month): money *= 1+per\n",
    "money"
   ]
  },
  {
   "cell_type": "code",
   "execution_count": 173,
   "id": "57e10ab0",
   "metadata": {},
   "outputs": [
    {
     "data": {
      "text/plain": [
       "2.613035290224676"
      ]
     },
     "execution_count": 173,
     "metadata": {},
     "output_type": "execute_result"
    }
   ],
   "source": [
    "money = 1\n",
    "month = 12\n",
    "per = 100/(100*month)\n",
    "\n",
    "d_year = money*(1+per)**month\n",
    "d_year"
   ]
  },
  {
   "cell_type": "markdown",
   "id": "06f0a901",
   "metadata": {},
   "source": [
    "### Per Dayly"
   ]
  },
  {
   "cell_type": "code",
   "execution_count": 174,
   "id": "234fa895",
   "metadata": {},
   "outputs": [
    {
     "data": {
      "text/plain": [
       "2.7145674820219714"
      ]
     },
     "execution_count": 174,
     "metadata": {},
     "output_type": "execute_result"
    }
   ],
   "source": [
    "money = 1\n",
    "day = 365\n",
    "per = 100/(100*day)\n",
    "\n",
    "for i in range(day): money *= 1+per\n",
    "money"
   ]
  },
  {
   "cell_type": "code",
   "execution_count": 175,
   "id": "96b320a4",
   "metadata": {},
   "outputs": [
    {
     "data": {
      "text/plain": [
       "2.7145674820219727"
      ]
     },
     "execution_count": 175,
     "metadata": {},
     "output_type": "execute_result"
    }
   ],
   "source": [
    "money = 1\n",
    "day = 365\n",
    "per = 100/(100*day)\n",
    "\n",
    "d_year = money*(1+per)**day\n",
    "d_year"
   ]
  },
  {
   "cell_type": "markdown",
   "id": "22caf953",
   "metadata": {},
   "source": [
    "### Per hourly"
   ]
  },
  {
   "cell_type": "code",
   "execution_count": 176,
   "id": "9f6ef84a",
   "metadata": {},
   "outputs": [
    {
     "data": {
      "text/plain": [
       "2.718126691617897"
      ]
     },
     "execution_count": 176,
     "metadata": {},
     "output_type": "execute_result"
    }
   ],
   "source": [
    "money = 1\n",
    "hour = 365*24\n",
    "per = 100/(100*hour)\n",
    "\n",
    "for i in range(hour): money *= 1+per\n",
    "money"
   ]
  },
  {
   "cell_type": "code",
   "execution_count": 178,
   "id": "1d67b4bd",
   "metadata": {},
   "outputs": [
    {
     "data": {
      "text/plain": [
       "2.7181266916179077"
      ]
     },
     "execution_count": 178,
     "metadata": {},
     "output_type": "execute_result"
    }
   ],
   "source": [
    "money = 1\n",
    "hour = 365*24\n",
    "per = 100/(100*hour)\n",
    "\n",
    "d_year = money*(1+per)**hour\n",
    "d_year"
   ]
  },
  {
   "cell_type": "markdown",
   "id": "f1117e82",
   "metadata": {},
   "source": [
    "### Per Minutly"
   ]
  },
  {
   "cell_type": "code",
   "execution_count": 179,
   "id": "1d472b45",
   "metadata": {},
   "outputs": [
    {
     "data": {
      "text/plain": [
       "2.7182792426663576"
      ]
     },
     "execution_count": 179,
     "metadata": {},
     "output_type": "execute_result"
    }
   ],
   "source": [
    "money = 1\n",
    "minut = 365*24*60\n",
    "per = 100/(100*minut)\n",
    "\n",
    "for i in range(minut): money *= 1+per\n",
    "money"
   ]
  },
  {
   "cell_type": "code",
   "execution_count": 180,
   "id": "bc38a649",
   "metadata": {},
   "outputs": [
    {
     "data": {
      "text/plain": [
       "2.7182792426663553"
      ]
     },
     "execution_count": 180,
     "metadata": {},
     "output_type": "execute_result"
    }
   ],
   "source": [
    "money = 1\n",
    "minut = 365*24*60\n",
    "per = 100/(100*minut)\n",
    "\n",
    "d_year = money*(1+per)**minut\n",
    "d_year"
   ]
  },
  {
   "cell_type": "markdown",
   "id": "4bb64e44",
   "metadata": {},
   "source": [
    "### Per Secondsly"
   ]
  },
  {
   "cell_type": "code",
   "execution_count": 181,
   "id": "6af1fb0f",
   "metadata": {},
   "outputs": [
    {
     "data": {
      "text/plain": [
       "2.718281778468765"
      ]
     },
     "execution_count": 181,
     "metadata": {},
     "output_type": "execute_result"
    }
   ],
   "source": [
    "money = 1\n",
    "second = 365*24*60*60\n",
    "per = 100/(100*second)\n",
    "\n",
    "for i in range(second): money *= 1+per\n",
    "money"
   ]
  },
  {
   "cell_type": "code",
   "execution_count": 182,
   "id": "fd0833f4",
   "metadata": {},
   "outputs": [
    {
     "data": {
      "text/plain": [
       "2.7182817784689974"
      ]
     },
     "execution_count": 182,
     "metadata": {},
     "output_type": "execute_result"
    }
   ],
   "source": [
    "money = 1\n",
    "second = 365*24*60*60\n",
    "per = 100/(100*second)\n",
    "\n",
    "d_year = money*(1+per)**second\n",
    "d_year"
   ]
  },
  {
   "cell_type": "code",
   "execution_count": null,
   "id": "8b81ca5c",
   "metadata": {},
   "outputs": [],
   "source": []
  },
  {
   "cell_type": "markdown",
   "id": "e664fce8",
   "metadata": {},
   "source": [
    "Burada:\n",
    "   - $M$: Yekun məbləğ,\n",
    "   - $P$: İlkin kapital,\n",
    "   - $r$: Faiz dərəcəsi (illik)\n",
    "   - $t$: Vaxt (il ilə)\n",
    "   - $n$: Bir il ərzində faiz dövrlərinin sayı\n",
    "   - $e$: Eyler ədədi ($e \\approx 2.718$).\n",
    "---  \n",
    "   - **Sadə faiz:** $M = P(1 + rt)$\n",
    "   - **Mürəkkəb faiz:** $M = P\\left(1 + \\frac{r}{n}\\right)^{nt}$\n",
    "   - **Fasiləsiz faiz və Eyler ədədi**: $M = Pe^{rt}$"
   ]
  },
  {
   "cell_type": "code",
   "execution_count": 215,
   "id": "d14d5fa9",
   "metadata": {},
   "outputs": [
    {
     "data": {
      "text/latex": [
       "$\\displaystyle 2.71828182845905$"
      ],
      "text/plain": [
       "2.71828182845905"
      ]
     },
     "execution_count": 215,
     "metadata": {},
     "output_type": "execute_result"
    }
   ],
   "source": [
    "from sympy import *\n",
    "\n",
    "number = 1\n",
    "period = 1\n",
    "per = 100 / 100\n",
    "\n",
    "number * exp(period * per)"
   ]
  },
  {
   "cell_type": "code",
   "execution_count": 216,
   "id": "b7ce3c60",
   "metadata": {},
   "outputs": [
    {
     "data": {
      "text/latex": [
       "$\\displaystyle 1161.83424272828$"
      ],
      "text/plain": [
       "1161.83424272828"
      ]
     },
     "execution_count": 216,
     "metadata": {},
     "output_type": "execute_result"
    }
   ],
   "source": [
    "from sympy import *\n",
    "\n",
    "number = 1000\n",
    "period = 3\n",
    "per = 5 / 100\n",
    "\n",
    "number * exp(period * per)"
   ]
  },
  {
   "cell_type": "code",
   "execution_count": null,
   "id": "e2d1ab53",
   "metadata": {},
   "outputs": [],
   "source": []
  },
  {
   "cell_type": "code",
   "execution_count": 217,
   "id": "9cfab19e",
   "metadata": {},
   "outputs": [
    {
     "data": {
      "text/latex": [
       "$\\displaystyle 1.0$"
      ],
      "text/plain": [
       "1.00000000000000"
      ]
     },
     "execution_count": 217,
     "metadata": {},
     "output_type": "execute_result"
    }
   ],
   "source": [
    "ln(2.71828182845905)"
   ]
  },
  {
   "cell_type": "code",
   "execution_count": 218,
   "id": "9ace82d5",
   "metadata": {},
   "outputs": [
    {
     "data": {
      "text/latex": [
       "$\\displaystyle 1.0$"
      ],
      "text/plain": [
       "1.00000000000000"
      ]
     },
     "execution_count": 218,
     "metadata": {},
     "output_type": "execute_result"
    }
   ],
   "source": [
    "log(2.71828182845905)"
   ]
  },
  {
   "cell_type": "code",
   "execution_count": 219,
   "id": "b032aaf8",
   "metadata": {},
   "outputs": [
    {
     "data": {
      "text/latex": [
       "$\\displaystyle 3$"
      ],
      "text/plain": [
       "3"
      ]
     },
     "execution_count": 219,
     "metadata": {},
     "output_type": "execute_result"
    }
   ],
   "source": [
    "log(8, 2)"
   ]
  },
  {
   "cell_type": "code",
   "execution_count": 220,
   "id": "84bf0abf",
   "metadata": {},
   "outputs": [
    {
     "data": {
      "text/latex": [
       "$\\displaystyle \\log{\\left(8 \\right)}$"
      ],
      "text/plain": [
       "log(8)"
      ]
     },
     "execution_count": 220,
     "metadata": {},
     "output_type": "execute_result"
    }
   ],
   "source": [
    "log(8)"
   ]
  },
  {
   "cell_type": "code",
   "execution_count": null,
   "id": "8926628d",
   "metadata": {},
   "outputs": [],
   "source": []
  },
  {
   "cell_type": "markdown",
   "id": "4ee8a023",
   "metadata": {},
   "source": [
    "##   $y=e^x$\n",
    "\n",
    "#### **1. Təyin oblastı ($x$):**\n",
    "- Eksponent funksiyası üçün \\(x\\) istənilən real ədədi ala bilər.\n",
    "- Yəni, $x \\in (-\\infty, +\\infty)$.\n",
    "\n",
    "#### **2. Qiymətlər oblastı ($y$):**\n",
    "- Eksponent funksiyasının nəticəsi həmişə müsbət olur.\n",
    "- Yəni, \\$y \\in (0, +\\infty)$.\n",
    "\n",
    "**Qısaca:**  \n",
    "- $x \\in (-\\infty, +\\infty)$,  \n",
    "- $y \\in (0, +\\infty)$."
   ]
  },
  {
   "cell_type": "code",
   "execution_count": 224,
   "id": "63615242",
   "metadata": {},
   "outputs": [
    {
     "data": {
      "image/png": "[encoded data removed]",
      "text/plain": [
       "<Figure size 640x480 with 1 Axes>"
      ]
     },
     "metadata": {},
     "output_type": "display_data"
    }
   ],
   "source": [
    "from sympy import *\n",
    "from sympy.plotting import plot\n",
    "\n",
    "# Simvolik dəyişəni təyin edirik\n",
    "x = symbols('x')\n",
    "\n",
    "# Riyazi ifadəni müəyyənləşdiririk\n",
    "y = exp(x)\n",
    "# y = E**(x)  \n",
    "\n",
    "# Qrafiki çəkirik\n",
    "p = plot(y, show=False)\n",
    "\n",
    "# Oxları tənzimləyirik\n",
    "p[0].line_color = 'blue'  # Xəttin rəngini dəyişirik\n",
    "p.ylim = [-10, 10]           # Ordinat oxu üçün məhdudiyyətlər təyin edirik\n",
    "p.xlim = [-10, 10]         # Absis oxu üçün məhdudiyyətlər təyin edirik\n",
    "p.show()"
   ]
  },
  {
   "cell_type": "code",
   "execution_count": null,
   "id": "98c0fc7a",
   "metadata": {},
   "outputs": [],
   "source": []
  }
 ],
 "metadata": {
  "kernelspec": {
   "display_name": "Python 3 (ipykernel)",
   "language": "python",
   "name": "python3"
  },
  "language_info": {
   "codemirror_mode": {
    "name": "ipython",
    "version": 3
   },
   "file_extension": ".py",
   "mimetype": "text/x-python",
   "name": "python",
   "nbconvert_exporter": "python",
   "pygments_lexer": "ipython3",
   "version": "3.11.5"
  }
 },
 "nbformat": 4,
 "nbformat_minor": 5
}
