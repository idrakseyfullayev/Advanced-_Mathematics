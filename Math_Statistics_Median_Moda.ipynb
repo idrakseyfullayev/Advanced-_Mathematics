{
 "cells": [
  {
   "cell_type": "markdown",
   "id": "40fb39d7",
   "metadata": {},
   "source": [
    "### Median (Orta qiymət)"
   ]
  },
  {
   "cell_type": "markdown",
   "id": "9ef6bd04",
   "metadata": {},
   "source": [
    "**Düsturları:**\n",
    "\n",
    "1. **Tək sayda verilənlər üçün:**\n",
    "   $$\n",
    "   \\text{Median} = x_{(n+1)/2}\n",
    "   $$\n",
    "\n",
    "2. **Cüt sayda verilənlər üçün:**\n",
    "   $$\n",
    "   \\text{Median} = \\frac{x_{n/2} + x_{(n/2)+1}}{2}\n",
    "   $$"
   ]
  },
  {
   "cell_type": "code",
   "execution_count": 92,
   "id": "1d8ed627",
   "metadata": {},
   "outputs": [
    {
     "name": "stdout",
     "output_type": "stream",
     "text": [
      "[0, 3, 7, 9, 10, 16, 19]\n"
     ]
    },
    {
     "data": {
      "text/plain": [
       "9"
      ]
     },
     "execution_count": 92,
     "metadata": {},
     "output_type": "execute_result"
    }
   ],
   "source": [
    "sample = [16, 10, 9 , 19, 0, 3, 7]\n",
    "\n",
    "def median(values):\n",
    "    values.sort()\n",
    "    if len(values) % 2:\n",
    "        x_n = (len(values)+1) / 2\n",
    "        print(values)\n",
    "        return ( values[int(x_n-1)])\n",
    "    else:    \n",
    "        x_n = (len(values)) / 2\n",
    "        print(values)\n",
    "        return ( values[int(x_n - 1)] + values[int(x_n+1 - 1)] ) / 2\n",
    "\n",
    "median(sample)"
   ]
  },
  {
   "cell_type": "code",
   "execution_count": null,
   "id": "94fa108c",
   "metadata": {},
   "outputs": [],
   "source": []
  },
  {
   "cell_type": "code",
   "execution_count": 93,
   "id": "95d6fea8",
   "metadata": {},
   "outputs": [
    {
     "data": {
      "text/plain": [
       "9.0"
      ]
     },
     "execution_count": 93,
     "metadata": {},
     "output_type": "execute_result"
    }
   ],
   "source": [
    "import numpy as np\n",
    "np.median(sample)"
   ]
  },
  {
   "cell_type": "code",
   "execution_count": null,
   "id": "fbde1c26",
   "metadata": {},
   "outputs": [],
   "source": []
  },
  {
   "cell_type": "code",
   "execution_count": 94,
   "id": "70dadd6f",
   "metadata": {},
   "outputs": [
    {
     "name": "stdout",
     "output_type": "stream",
     "text": [
      "[0, 3, 7, 9, 10, 16, 19, 20]\n"
     ]
    },
    {
     "data": {
      "text/plain": [
       "9.5"
      ]
     },
     "execution_count": 94,
     "metadata": {},
     "output_type": "execute_result"
    }
   ],
   "source": [
    "sample = [16, 10, 9, 19, 0, 3, 7, 20]  # Verilənlərin nümunəsi, medianı tapmaq üçün istifadə olunacaq.\n",
    "\n",
    "def median(values):\n",
    "    # Verilənləri sıraya düzür (artan şəkildə).\n",
    "    values = sorted(values)\n",
    "    # Verilənlərin ümumi sayını hesablayır.\n",
    "    len_sample = len(values)\n",
    "    # Verilənlərin tək ya da cüt olmasını yoxlayır (1 isə tək, 0 isə cüt).\n",
    "    check = len_sample & 1\n",
    "    # Medianın indeksini tapmaq üçün bitwise sağa sürüşdürmə (>> 1) istifadə edir. \n",
    "    # Sıfırdan başlayan indeksləri tənzimləyir.\n",
    "    mid = (len_sample >> 1) - 1 + check  \n",
    "    \n",
    "    # Sıralanmış verilənləri konsola çap edir (debug məqsədilə).\n",
    "    print(values)  \n",
    "\n",
    "    \n",
    "    # Əgər verilənlərin sayı təkdirsə, ortadakı dəyəri qaytarır.\n",
    "    # Əgər verilənlərin sayı cütdürsə, ortadakı iki dəyərin ortalamasını hesablayır.\n",
    "    return (values[mid]) if check else (sum(values[mid: mid + 2]) / 2)  \n",
    "   \n",
    "# Funksiyanı çağıraraq `sample` verilənlərinin medianını hesablayır.\n",
    "median(sample)  "
   ]
  },
  {
   "cell_type": "code",
   "execution_count": null,
   "id": "ddc29dac",
   "metadata": {},
   "outputs": [],
   "source": []
  },
  {
   "cell_type": "markdown",
   "id": "05fe561a",
   "metadata": {},
   "source": [
    "### Moda (Ən çox rast gəlinən dəyər)"
   ]
  },
  {
   "cell_type": "code",
   "execution_count": 2,
   "id": "22d3d5a5",
   "metadata": {},
   "outputs": [
    {
     "data": {
      "text/plain": [
       "2"
      ]
     },
     "execution_count": 2,
     "metadata": {},
     "output_type": "execute_result"
    }
   ],
   "source": [
    "from statistics import mode\n",
    "\n",
    "sample = [1, 2, 2, 3, 4, 3, 6, 7]\n",
    "mode(sample)"
   ]
  },
  {
   "cell_type": "code",
   "execution_count": null,
   "id": "c7f5713a",
   "metadata": {},
   "outputs": [],
   "source": []
  },
  {
   "cell_type": "code",
   "execution_count": 26,
   "id": "154086c2",
   "metadata": {},
   "outputs": [
    {
     "name": "stdout",
     "output_type": "stream",
     "text": [
      "2\n",
      "{2, 3, 6}\n"
     ]
    }
   ],
   "source": [
    "from statistics import mode\n",
    "\n",
    "sample = [1, 2, 2, 4, 3, 3, 6, 6, 7]\n",
    "max_count = sample.count(mode(sample))\n",
    "print(max_count)\n",
    "print(set([value for value in sample if sample.count(value) == max_count]))"
   ]
  },
  {
   "cell_type": "code",
   "execution_count": null,
   "id": "2c9bf9de",
   "metadata": {},
   "outputs": [],
   "source": []
  },
  {
   "cell_type": "code",
   "execution_count": 16,
   "id": "b28cec39",
   "metadata": {},
   "outputs": [
    {
     "name": "stdout",
     "output_type": "stream",
     "text": [
      "Bütün modalar: [2, 3]\n"
     ]
    }
   ],
   "source": [
    "from collections import Counter\n",
    "\n",
    "# Verilən siyahı\n",
    "data = [2, 2, 2, 3, 3, 3, 4, 5, 6, 7]\n",
    "\n",
    "# Hər bir elementin tezliyini hesablayırıq\n",
    "freq = Counter(data)\n",
    "\n",
    "# Ən böyük tezliyi tapırıq\n",
    "max_freq = max(freq.values())\n",
    "\n",
    "# Ən böyük tezliyə sahib olan elementləri seçirik\n",
    "modes = [key for key, value in freq.items() if value == max_freq]\n",
    "\n",
    "print(\"Bütün modalar:\", modes)"
   ]
  },
  {
   "cell_type": "code",
   "execution_count": null,
   "id": "e080cbf1",
   "metadata": {},
   "outputs": [],
   "source": []
  },
  {
   "cell_type": "code",
   "execution_count": 25,
   "id": "6ec7bba5",
   "metadata": {},
   "outputs": [
    {
     "name": "stdout",
     "output_type": "stream",
     "text": [
      "[2, 3]\n"
     ]
    }
   ],
   "source": [
    "# Funksiya modları tapmaq üçün təyin edilir\n",
    "def mode(values):\n",
    "    # max_count - maksimum tezlik, dict_values - modaların saxlanacağı sözlük\n",
    "    (max_count, dict_values) = (0, {})\n",
    "\n",
    "    # Siyahıdakı unikal elementlər üzərində dövr\n",
    "    for value in set(values):\n",
    "        # Elementin siyahıda neçə dəfə təkrarlandığını hesablayırıq\n",
    "        cnt = values.count(value)\n",
    "\n",
    "        # Əgər bu elementin tezliyi maksimum tezlikdən böyük və ya bərabərdirsə\n",
    "        if cnt >= max_count:\n",
    "            # Maksimum tezliyi yeniləyirik\n",
    "            max_count = cnt\n",
    "\n",
    "            # Əgər maksimum tezlik artıq sözlükdə mövcuddursa\n",
    "            if max_count in dict_values:\n",
    "                # Bu tezlik üçün mövcud elementlər siyahısına yeni elementi əlavə edirik\n",
    "                dict_values[max_count].append(value)\n",
    "            else:\n",
    "                # Əgər maksimum tezlik sözlükdə yoxdursa, yeni bir açar yaradırıq\n",
    "                dict_values[max_count] = [value]\n",
    "\n",
    "    # Maksimum tezliyə malik olan elementləri qaytarırıq\n",
    "    return dict_values[max_count]\n",
    "\n",
    "# Verilmiş siyahı\n",
    "sample = [1, 3, 4, 3, 2, 2, 6, 7]\n",
    "\n",
    "# Funksiyanı çağırıb nəticəni çap edirik\n",
    "print(mode(sample))"
   ]
  },
  {
   "cell_type": "code",
   "execution_count": null,
   "id": "a631943d",
   "metadata": {},
   "outputs": [],
   "source": []
  },
  {
   "cell_type": "code",
   "execution_count": 29,
   "id": "c7f7ca0f",
   "metadata": {},
   "outputs": [
    {
     "name": "stdout",
     "output_type": "stream",
     "text": [
      "dict_items([(1, 1), (3, 1), (4, 3), (2, 3), (6, 1), (7, 3)])\n"
     ]
    },
    {
     "data": {
      "text/plain": [
       "[4, 2, 7]"
      ]
     },
     "execution_count": 29,
     "metadata": {},
     "output_type": "execute_result"
    }
   ],
   "source": [
    "# Siyahı verilmişdir\n",
    "sample = [1, 3, 4, 4, 4, 2, 2, 2, 6, 7, 7, 7]\n",
    "\n",
    "# Modaları tapmaq üçün funksiya tərifi\n",
    "def mode(values):\n",
    "    # collections modulundan Counter funksiyasını import edirik\n",
    "    from collections import Counter\n",
    "\n",
    "    # Hər bir elementin sayını hesablayırıq və nəticələri dict_items şəklində saxlayırıq\n",
    "    counter = Counter(values).items()\n",
    "    print(counter)  # Debug üçün: Counter nəticələrini çap edirik\n",
    "\n",
    "    # Siyahıdakı ən çox təkrarlanan elementin sayını əldə edirik\n",
    "    max_count = Counter(values).most_common(1)[0][1]\n",
    "\n",
    "    # Maksimum tezliyə bərabər olan bütün elementləri siyahıya qaytarırıq\n",
    "    return [value for (value, count) in counter if (count == max_count)]\n",
    "\n",
    "# Funksiyanı çağırırıq\n",
    "mode(sample)"
   ]
  },
  {
   "cell_type": "code",
   "execution_count": null,
   "id": "862b785e",
   "metadata": {},
   "outputs": [],
   "source": []
  },
  {
   "cell_type": "code",
   "execution_count": 31,
   "id": "fa8cfacd",
   "metadata": {},
   "outputs": [
    {
     "name": "stdout",
     "output_type": "stream",
     "text": [
      "[2, 4, 7]\n"
     ]
    }
   ],
   "source": [
    "# Verilmiş siyahı\n",
    "sample = [1, 3, 4, 4, 4, 3, 2, 2, 2, 6, 7, 7, 7]\n",
    "\n",
    "# Modaları tapmaq üçün funksiya\n",
    "def mode(values):\n",
    "    # collections modulundan defaultdict funksiyasını import edirik\n",
    "    from collections import defaultdict\n",
    "\n",
    "    # Tezlikləri saxlamaq üçün default dəyəri 0 olan bir defaultdict yaradılır\n",
    "    counts = defaultdict(lambda: 0)\n",
    "\n",
    "    # Siyahıdakı hər elementin tezliyini hesablayırıq\n",
    "    for value in values:\n",
    "        counts[value] += 1\n",
    "\n",
    "    # Tezliklər arasında maksimum dəyəri tapırıq\n",
    "    max_count = max(counts.values())\n",
    "\n",
    "    # Maksimum tezliyə malik olan bütün elementləri siyahı şəklində qaytarırıq\n",
    "    return [value for value in set(values) if (counts[value] == max_count)]\n",
    "\n",
    "# Funksiyanı çağırırıq və nəticəni çap edirik\n",
    "print(mode(sample))"
   ]
  },
  {
   "cell_type": "code",
   "execution_count": null,
   "id": "3270f0e5",
   "metadata": {},
   "outputs": [],
   "source": []
  }
 ],
 "metadata": {
  "kernelspec": {
   "display_name": "Python 3 (ipykernel)",
   "language": "python",
   "name": "python3"
  },
  "language_info": {
   "codemirror_mode": {
    "name": "ipython",
    "version": 3
   },
   "file_extension": ".py",
   "mimetype": "text/x-python",
   "name": "python",
   "nbconvert_exporter": "python",
   "pygments_lexer": "ipython3",
   "version": "3.11.5"
  }
 },
 "nbformat": 4,
 "nbformat_minor": 5
}
