{
 "cells": [
  {
   "cell_type": "markdown",
   "id": "9808aa74",
   "metadata": {},
   "source": [
    "## Ali Riyaziyyat Firidun_Məmmədov_Channnel"
   ]
  },
  {
   "cell_type": "markdown",
   "id": "0b2f2a08",
   "metadata": {},
   "source": [
    "https://www.youtube.com/watch?v=RSvycspUXPs&list=PLgg1JLk-KRPxhy2LMDgm-ep10WiUfIle5&index=3"
   ]
  },
  {
   "cell_type": "markdown",
   "id": "2b49a13e",
   "metadata": {},
   "source": [
    "**Riyaziyyat Dərs 12(Funksiyalar və qrafiklər) [1ci Hissə]**"
   ]
  },
  {
   "cell_type": "markdown",
   "id": "d0a7b295",
   "metadata": {},
   "source": [
    "**Riyaziyyat Dərs 13(Funksiyalar və qrafiklər)[2ci hissə]**"
   ]
  },
  {
   "cell_type": "markdown",
   "id": "4e255c16",
   "metadata": {},
   "source": [
    "**Ali Riyaziyyat Dərs 1(Matrislər və Determinantlar)[l hissə]**"
   ]
  },
  {
   "cell_type": "markdown",
   "id": "78b03aba",
   "metadata": {},
   "source": [
    "**Ali Riyaziyyat Dərs 2(İbtidai funksiya və qeyri-müəyyən inteqral,inteqrallama üsulları)**"
   ]
  },
  {
   "cell_type": "markdown",
   "id": "9d1f4df6",
   "metadata": {},
   "source": [
    "**Ali Riyaziyyat Dərs 3(Müəyyən inteqral, xassələri,həndəsi və iqtisadi mənası. İnteqrallama üsulları)**"
   ]
  },
  {
   "cell_type": "markdown",
   "id": "e0b81da2",
   "metadata": {},
   "source": [
    "**Ali Riyaziyyat(Həmdə orta məktəb) Dərs 14[Funksiyanın limiti.Sol və Sağ limitlər. Görkəmli limitlər]**"
   ]
  },
  {
   "cell_type": "markdown",
   "id": "c95b3ea5",
   "metadata": {},
   "source": [
    "**Ali Riyaziyyat(Həmdə orta məktəb) Dərs 15[Funksiyanın törəməsi, yüksək tərtibli törəmələr]**"
   ]
  },
  {
   "cell_type": "markdown",
   "id": "07b03421",
   "metadata": {},
   "source": [
    "**Ali Riyaziyyat Dərs 16(Funksiyanın diferensialı. Diferensial hesabının əsas teoremləri)**"
   ]
  },
  {
   "cell_type": "code",
   "execution_count": null,
   "id": "5530088d",
   "metadata": {},
   "outputs": [],
   "source": []
  }
 ],
 "metadata": {
  "kernelspec": {
   "display_name": "Python 3 (ipykernel)",
   "language": "python",
   "name": "python3"
  },
  "language_info": {
   "codemirror_mode": {
    "name": "ipython",
    "version": 3
   },
   "file_extension": ".py",
   "mimetype": "text/x-python",
   "name": "python",
   "nbconvert_exporter": "python",
   "pygments_lexer": "ipython3",
   "version": "3.11.5"
  }
 },
 "nbformat": 4,
 "nbformat_minor": 5
}
