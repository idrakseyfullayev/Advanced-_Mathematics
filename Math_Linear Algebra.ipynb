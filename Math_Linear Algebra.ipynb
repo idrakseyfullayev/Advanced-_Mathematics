{
 "cells": [
  {
   "cell_type": "markdown",
   "id": "6521c879",
   "metadata": {},
   "source": [
    "## NumPy ilə Matris Əməliyyatları"
   ]
  },
  {
   "cell_type": "code",
   "execution_count": 34,
   "id": "a52021d1",
   "metadata": {},
   "outputs": [
    {
     "name": "stdout",
     "output_type": "stream",
     "text": [
      "['1 2'] ['5 6']\n",
      "['3 4'] ['7 8']\n",
      "Toplama:\n",
      " [[ 6  8]\n",
      " [10 12]]\n"
     ]
    }
   ],
   "source": [
    "import numpy as np\n",
    "\n",
    "# Matrislər\n",
    "A = np.array([[1, 2], [3, 4]])\n",
    "B = np.array([[5, 6], [7, 8]])\n",
    "\n",
    "# Matrisləri yan-yana çap etmək\n",
    "for i in range(len(A)):\n",
    "    print([np.array2string(A[i], separator=' ')[1:-1]], [np.array2string(B[i], separator=' ')[1:-1]])\n",
    "\n",
    "# Toplama\n",
    "C = A + B\n",
    "print(\"Toplama:\\n\", C)"
   ]
  },
  {
   "cell_type": "code",
   "execution_count": 35,
   "id": "95222359",
   "metadata": {},
   "outputs": [
    {
     "name": "stdout",
     "output_type": "stream",
     "text": [
      "['1 2'] ['5 6']\n",
      "['3 4'] ['7 8']\n",
      "Çıxmaq:\n",
      " [[-4 -4]\n",
      " [-4 -4]]\n"
     ]
    }
   ],
   "source": [
    "# Çıxmaq\n",
    "\n",
    "# Matrisləri yan-yana çap etmək\n",
    "for i in range(len(A)):\n",
    "    print([np.array2string(A[i], separator=' ')[1:-1]], [np.array2string(B[i], separator=' ')[1:-1]])\n",
    "\n",
    "C = A - B\n",
    "print(\"Çıxmaq:\\n\", C)"
   ]
  },
  {
   "cell_type": "code",
   "execution_count": 36,
   "id": "d472353e",
   "metadata": {},
   "outputs": [
    {
     "name": "stdout",
     "output_type": "stream",
     "text": [
      "['1 2'] ['5 6']\n",
      "['3 4'] ['7 8']\n",
      "Element-wise Vurma:\n",
      " [[ 5 12]\n",
      " [21 32]]\n"
     ]
    }
   ],
   "source": [
    "# Element-wise Vurma\n",
    "\n",
    "# Matrisləri yan-yana çap etmək\n",
    "for i in range(len(A)):\n",
    "    print([np.array2string(A[i], separator=' ')[1:-1]], [np.array2string(B[i], separator=' ')[1:-1]])\n",
    "\n",
    "C = A * B\n",
    "print(\"Element-wise Vurma:\\n\", C)"
   ]
  },
  {
   "cell_type": "code",
   "execution_count": 37,
   "id": "c87e10f1",
   "metadata": {},
   "outputs": [
    {
     "name": "stdout",
     "output_type": "stream",
     "text": [
      "['1 2'] ['5 6']\n",
      "['3 4'] ['7 8']\n",
      "Matris Vurma:\n",
      " [[19 22]\n",
      " [43 50]]\n"
     ]
    }
   ],
   "source": [
    "# Matris Vurma (Alqebraik)\n",
    "\n",
    "# Matrisləri yan-yana çap etmək\n",
    "for i in range(len(A)):\n",
    "    print([np.array2string(A[i], separator=' ')[1:-1]], [np.array2string(B[i], separator=' ')[1:-1]])\n",
    "\n",
    "C = np.dot(A, B)\n",
    "# Və ya\n",
    "C = A @ B\n",
    "print(\"Matris Vurma:\\n\", C)"
   ]
  },
  {
   "cell_type": "code",
   "execution_count": 38,
   "id": "df14c74d",
   "metadata": {},
   "outputs": [
    {
     "name": "stdout",
     "output_type": "stream",
     "text": [
      "['1 2'] ['5 6']\n",
      "['3 4'] ['7 8']\n",
      "Element-wise Bölmə:\n",
      " [[0.2        0.33333333]\n",
      " [0.42857143 0.5       ]]\n"
     ]
    }
   ],
   "source": [
    "# Element-wise Bölmə\n",
    "\n",
    "# Matrisləri yan-yana çap etmək\n",
    "for i in range(len(A)):\n",
    "    print([np.array2string(A[i], separator=' ')[1:-1]], [np.array2string(B[i], separator=' ')[1:-1]])\n",
    "\n",
    "C = A / B\n",
    "print(\"Element-wise Bölmə:\\n\", C)"
   ]
  },
  {
   "cell_type": "code",
   "execution_count": 42,
   "id": "c99a47f4",
   "metadata": {},
   "outputs": [
    {
     "name": "stdout",
     "output_type": "stream",
     "text": [
      "['1 2'] ['5 6']\n",
      "['3 4'] ['7 8']\n",
      "Alqebraik Bölmə:\n",
      " [[ 3. -2.]\n",
      " [ 2. -1.]]\n"
     ]
    }
   ],
   "source": [
    "# Alqebraik Bölmə (Pseudo-inverse ilə)\n",
    "\n",
    "# Matrisləri yan-yana çap etmək\n",
    "for i in range(len(A)):\n",
    "    print([np.array2string(A[i], separator=' ')[1:-1]], [np.array2string(B[i], separator=' ')[1:-1]])\n",
    "\n",
    "B_inv = np.linalg.pinv(B)\n",
    "C = np.dot(A, B_inv)\n",
    "print(\"Alqebraik Bölmə:\\n\", C)"
   ]
  },
  {
   "cell_type": "code",
   "execution_count": null,
   "id": "f51a03c4",
   "metadata": {},
   "outputs": [],
   "source": []
  }
 ],
 "metadata": {
  "kernelspec": {
   "display_name": "Python 3 (ipykernel)",
   "language": "python",
   "name": "python3"
  },
  "language_info": {
   "codemirror_mode": {
    "name": "ipython",
    "version": 3
   },
   "file_extension": ".py",
   "mimetype": "text/x-python",
   "name": "python",
   "nbconvert_exporter": "python",
   "pygments_lexer": "ipython3",
   "version": "3.11.5"
  }
 },
 "nbformat": 4,
 "nbformat_minor": 5
}
