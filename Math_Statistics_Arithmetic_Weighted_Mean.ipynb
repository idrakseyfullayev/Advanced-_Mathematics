{
 "cells": [
  {
   "cell_type": "markdown",
   "id": "70136953",
   "metadata": {},
   "source": [
    "### Ədədi Orta (Arithmetic Mean) "
   ]
  },
  {
   "cell_type": "markdown",
   "id": "40aa4590",
   "metadata": {},
   "source": [
    "**Düstur:**  \n",
    "$$\n",
    "\\text{Arithmetic Mean} = \\frac{\\sum_{i=1}^n x_i}{n}\n",
    "$$ \n"
   ]
  },
  {
   "cell_type": "code",
   "execution_count": 50,
   "id": "1b99c82f",
   "metadata": {},
   "outputs": [
    {
     "name": "stdout",
     "output_type": "stream",
     "text": [
      "sum: 239, size: 5, mean: 47.8\n"
     ]
    }
   ],
   "source": [
    "sample = [100, 0, 17, 58, 64]\n",
    "sample_sum = sum(sample)\n",
    "sample_size = len(sample)\n",
    "mean = sample_sum / sample_size\n",
    "print(f'sum: {sample_sum}, size: {sample_size}, mean: {mean}')"
   ]
  },
  {
   "cell_type": "code",
   "execution_count": null,
   "id": "133d1bed",
   "metadata": {},
   "outputs": [],
   "source": []
  },
  {
   "cell_type": "markdown",
   "id": "2e3f0bdd",
   "metadata": {},
   "source": [
    "### Çəkili Orta (Weighted Mean):"
   ]
  },
  {
   "cell_type": "markdown",
   "id": "40c227bd",
   "metadata": {},
   "source": [
    "**Düstur:**  \n",
    "$$\n",
    "\\text{Weighted Mean} = \\frac{\\sum_{i=1}^n w_i x_i}{\\sum_{i=1}^n w_i}\n",
    "$$ "
   ]
  },
  {
   "cell_type": "code",
   "execution_count": 116,
   "id": "84335a95",
   "metadata": {
    "scrolled": true
   },
   "outputs": [
    {
     "data": {
      "text/plain": [
       "[(100, 0.1), (50, 0.4), (68, 0.3), (75, 0.2)]"
      ]
     },
     "execution_count": 116,
     "metadata": {},
     "output_type": "execute_result"
    }
   ],
   "source": [
    "sample = [100,  50, 68, 75]\n",
    "weights = [0.1, 0.4, 0.3, 0.2]\n",
    "compact_list = list(zip(sample, weights))\n",
    "compact_list"
   ]
  },
  {
   "cell_type": "code",
   "execution_count": 117,
   "id": "afa1c615",
   "metadata": {},
   "outputs": [
    {
     "data": {
      "text/plain": [
       "65.4"
      ]
     },
     "execution_count": 117,
     "metadata": {},
     "output_type": "execute_result"
    }
   ],
   "source": [
    "weighted_mean = sum(s*w for s, w in compact_list) / sum(weights)\n",
    "weighted_mean"
   ]
  },
  {
   "cell_type": "code",
   "execution_count": 118,
   "id": "bc232648",
   "metadata": {
    "scrolled": true
   },
   "outputs": [
    {
     "data": {
      "text/plain": [
       "65.4"
      ]
     },
     "execution_count": 118,
     "metadata": {},
     "output_type": "execute_result"
    }
   ],
   "source": [
    "weighted_mean = sum(list(map(lambda x, y: (x*y), sample, weights))) / sum(weights)\n",
    "weighted_mean"
   ]
  },
  {
   "cell_type": "code",
   "execution_count": null,
   "id": "6da7a868",
   "metadata": {},
   "outputs": [],
   "source": []
  },
  {
   "cell_type": "markdown",
   "id": "c81bf055",
   "metadata": {},
   "source": [
    "### Weight  k  ededine vurularsa netice deyismir"
   ]
  },
  {
   "cell_type": "code",
   "execution_count": 137,
   "id": "71242c87",
   "metadata": {},
   "outputs": [
    {
     "data": {
      "text/plain": [
       "[(100, 0.8), (50, 3.2), (68, 2.4), (75, 1.6)]"
      ]
     },
     "execution_count": 137,
     "metadata": {},
     "output_type": "execute_result"
    }
   ],
   "source": [
    "sample = [100,  50, 68, 75]\n",
    "weights = [0.1, 0.4, 0.3, 0.2]\n",
    "k = 8\n",
    "weights = [k * i for i in weights]\n",
    "compact_list = list(zip(sample, weights))\n",
    "compact_list"
   ]
  },
  {
   "cell_type": "code",
   "execution_count": 138,
   "id": "6ae4de21",
   "metadata": {},
   "outputs": [
    {
     "data": {
      "text/plain": [
       "65.4"
      ]
     },
     "execution_count": 138,
     "metadata": {},
     "output_type": "execute_result"
    }
   ],
   "source": [
    "weighted_mean = sum(s*w for s, w in compact_list) / sum(weights)\n",
    "weighted_mean"
   ]
  },
  {
   "cell_type": "code",
   "execution_count": 139,
   "id": "587cd0c3",
   "metadata": {},
   "outputs": [
    {
     "data": {
      "text/plain": [
       "65.4"
      ]
     },
     "execution_count": 139,
     "metadata": {},
     "output_type": "execute_result"
    }
   ],
   "source": [
    "weighted_mean = sum(list(map(lambda x, y: (x*y), sample, weights))) / sum(weights)\n",
    "weighted_mean"
   ]
  },
  {
   "cell_type": "code",
   "execution_count": null,
   "id": "d9439951",
   "metadata": {},
   "outputs": [],
   "source": []
  }
 ],
 "metadata": {
  "kernelspec": {
   "display_name": "Python 3 (ipykernel)",
   "language": "python",
   "name": "python3"
  },
  "language_info": {
   "codemirror_mode": {
    "name": "ipython",
    "version": 3
   },
   "file_extension": ".py",
   "mimetype": "text/x-python",
   "name": "python",
   "nbconvert_exporter": "python",
   "pygments_lexer": "ipython3",
   "version": "3.11.5"
  }
 },
 "nbformat": 4,
 "nbformat_minor": 5
}
